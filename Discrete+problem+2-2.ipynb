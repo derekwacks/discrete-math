{
 "cells": [
  {
   "cell_type": "markdown",
   "metadata": {},
   "source": [
    "Problem 2\n",
    "A study of the distribution of primes. 1. The first cell generates primes up to a certain n using the Sieve of Eratosthenes scheme. 2. The second cell computes the time required to generate primes up to different n's as determined by a hardcoded list of N's ranging from [100, 10000000]. The results are then returned as a list of times and a corresponding time vs N graph. "
   ]
  },
  {
   "cell_type": "code",
   "execution_count": 72,
   "metadata": {},
   "outputs": [
    {
     "name": "stdout",
     "output_type": "stream",
     "text": [
      "Enter n: 10\n",
      "New List of primes up to n\n",
      "[2, 3, 5, 7]\n"
     ]
    }
   ],
   "source": [
    "# user input n\n",
    "size = input(\"Enter n: \")\n",
    "sizeInt = int(size)\n",
    "#creates list of ints of size n\n",
    "listOfInts = [i for i in range(2,sizeInt+1)]\n",
    "\n",
    "#print(listOfInts)\n",
    "\n",
    "for i in listOfInts:\n",
    "    #print(i)\n",
    "    z = sizeInt//i\n",
    "    #print(z)\n",
    "\n",
    "    #print(i, \" has \", z, \" multiples in the list\")\n",
    "    \"\"\"\n",
    "    for j in listOfInts:\n",
    "        for k in range(2,z+1):\n",
    "            listOfInts.remove(k*j)\n",
    "            \"\"\"\n",
    "    if z>1:\n",
    "        for k in range(2,z+1):\n",
    "            #print(\"the \",k, \" time\")\n",
    "            #print(\"removing multiples of \", i)\n",
    "            if k*i in listOfInts:\n",
    "                listOfInts.remove(k*i)     \n",
    "  \n",
    "print(\"New List of primes up to n\")\n",
    "print(listOfInts)"
   ]
  },
  {
   "cell_type": "markdown",
   "metadata": {},
   "source": [
    "Producing primes with timing"
   ]
  },
  {
   "cell_type": "code",
   "execution_count": 16,
   "metadata": {},
   "outputs": [
    {
     "name": "stdout",
     "output_type": "stream",
     "text": [
      "0.00025391578674316406\n",
      "0.00011610984802246094\n",
      "0.00843501091003418\n",
      "0.7428948879241943\n",
      "3.1649038791656494\n",
      "6.70334267616272\n"
     ]
    },
    {
     "data": {
      "image/png": "[encoded data removed]",
      "text/plain": [
       "<matplotlib.figure.Figure at 0x1124000b8>"
      ]
     },
     "metadata": {},
     "output_type": "display_data"
    }
   ],
   "source": [
    "import time\n",
    "import matplotlib.pyplot as plt\n",
    "import math\n",
    "import numpy as np\n",
    "\n",
    "# user input n\n",
    "#size = input(\"Enter n \")\n",
    "#nList = [10000]\n",
    "nList = [10,100,1000,10000,20000,30000]\n",
    "nListnp = np.array(nList)\n",
    "timeList = []\n",
    "#normalizedTimeList = []\n",
    "#list = [10,100,1000,10000,100000,1000000]\n",
    "\n",
    "for i in nList:\n",
    "    sizeInt = i\n",
    "    #creates list of ints of size n\n",
    "    start = time.time()\n",
    "    listOfInts = [i for i in range(2,sizeInt+1)] #list of all ints up to n \n",
    "    #print(listOfInts)\n",
    "    for j in listOfInts:\n",
    "        #print(i)\n",
    "        z = sizeInt//j\n",
    "       # print(z)\n",
    "\n",
    "        #print(i, \" has \", z, \" multiples in the list\")\n",
    "        #print()\n",
    "        \"\"\"\n",
    "        for j in listOfInts:\n",
    "            for k in range(2,z+1):\n",
    "                listOfInts.remove(k*j)\n",
    "                \"\"\"\n",
    "        if z>1:\n",
    "            for k in range(2,z+1):\n",
    "             #   print(\"removing multiples of \", i)\n",
    "                if (k*j) in listOfInts:\n",
    "                    listOfInts.remove(k*j) # All remaining elements in listOfInts are prime    \n",
    "        \n",
    "    #print(\"New List of primes up to n\")\n",
    "    #print(listOfInts)\n",
    "    end = time.time()\n",
    "    #x = math.log(end-start)\n",
    "    timeList.append(end-start)\n",
    "    #print(listOfInts)\n",
    "    #print(\"THERE ARE \", len(listOfInts), \" PRIMES IN THE FIRST \", i, \" NUMBERS\")\n",
    "    #print()\n",
    "    #timeList.append(x)\n",
    "    print(end-start)\n",
    "\n",
    "#maxVal = max(timeList)\n",
    "#for i in timeList:\n",
    "#    normalizedTimeList.append(i/maxVal)\n",
    "#plt.plot(nList,normalizedTimeList)\n",
    "x = np.array(timeList)\n",
    "\n",
    "plt.plot(nListnp, x)\n",
    "plt.xlabel('N')\n",
    "plt.ylabel('Time')\n",
    "plt.show()\n"
   ]
  },
  {
   "cell_type": "markdown",
   "metadata": {},
   "source": [
    "Copy of code from above \n"
   ]
  },
  {
   "cell_type": "code",
   "execution_count": 13,
   "metadata": {},
   "outputs": [
    {
     "name": "stdout",
     "output_type": "stream",
     "text": [
      "0.013428926467895508\n",
      "0.00011706352233886719\n",
      "0.008102178573608398\n",
      "0.7387220859527588\n",
      "2.864044189453125\n",
      "67.65390682220459\n"
     ]
    },
    {
     "data": {
      "image/png": "[encoded data removed]",
      "text/plain": [
       "<matplotlib.figure.Figure at 0x117f865f8>"
      ]
     },
     "metadata": {},
     "output_type": "display_data"
    }
   ],
   "source": [
    "import time\n",
    "import matplotlib.pyplot as plt\n",
    "import math\n",
    "import numpy as np\n",
    "\n",
    "# user input n\n",
    "#size = input(\"Enter n \")\n",
    "nList = [10,100,1000,10000,20000,100000]\n",
    "nListnp = np.array(nList)\n",
    "timeList = []\n",
    "#normalizedTimeList = []\n",
    "#list = [10,100,1000,10000,100000,1000000]\n",
    "\n",
    "for i in nList:\n",
    "    sizeInt = i\n",
    "    #creates list of ints of size n\n",
    "    start = time.time()\n",
    "    listOfInts = [i for i in range(2,sizeInt+1)]\n",
    "    #print(listOfInts)\n",
    "    for i in listOfInts:\n",
    "        #print(i)\n",
    "        z = sizeInt//i\n",
    "       # print(z)\n",
    "\n",
    "        #print(i, \" has \", z, \" multiples in the list\")\n",
    "        #print()\n",
    "        \"\"\"\n",
    "        for j in listOfInts:\n",
    "            for k in range(2,z+1):\n",
    "                listOfInts.remove(k*j)\n",
    "                \"\"\"\n",
    "        if z>1:\n",
    "            for k in range(2,z+1):\n",
    "             #   print(\"the \",k, \" time\")\n",
    "             #   print(\"removing multiples of \", i)\n",
    "                if k*i in listOfInts:\n",
    "                    listOfInts.remove(k*i)     \n",
    "\n",
    "    #print(\"New List of primes up to n\")\n",
    "    #print(listOfInts)\n",
    "    end = time.time()\n",
    "    #x = math.log(end-start)\n",
    "    timeList.append(end-start)\n",
    "    \n",
    "    #timeList.append(x)\n",
    "    print(end-start)\n",
    "\n",
    "#maxVal = max(timeList)\n",
    "#for i in timeList:\n",
    "#    normalizedTimeList.append(i/maxVal)\n",
    "#plt.plot(nList,normalizedTimeList)\n",
    "x = np.array(timeList)\n",
    "plt.plot(nListnp, x)\n",
    "plt.xlabel('N')\n",
    "plt.ylabel('Time')\n",
    "plt.show()"
   ]
  },
  {
   "cell_type": "code",
   "execution_count": null,
   "metadata": {
    "collapsed": true
   },
   "outputs": [],
   "source": []
  }
 ],
 "metadata": {
  "kernelspec": {
   "display_name": "Python 3",
   "language": "python",
   "name": "python3"
  },
  "language_info": {
   "codemirror_mode": {
    "name": "ipython",
    "version": 3
   },
   "file_extension": ".py",
   "mimetype": "text/x-python",
   "name": "python",
   "nbconvert_exporter": "python",
   "pygments_lexer": "ipython3",
   "version": "3.6.7"
  }
 },
 "nbformat": 4,
 "nbformat_minor": 2
}
