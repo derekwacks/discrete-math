{
 "cells": [
  {
   "cell_type": "markdown",
   "metadata": {},
   "source": [
    "Problem 2\n",
    "A study of the distribution of primes. 1. The first cell generates primes up to a certain n using the Sieve of Eratosthenes scheme. 2. The second cell computes the time required to generate primes up to different n's as determined by a hardcoded list of N's ranging from [100, 10000000]. The results are then returned as a list of times and a corresponding time vs N graph. "
   ]
  },
  {
   "cell_type": "code",
   "execution_count": 72,
   "metadata": {},
   "outputs": [
    {
     "name": "stdout",
     "output_type": "stream",
     "text": [
      "Enter n: 10\n",
      "New List of primes up to n\n",
      "[2, 3, 5, 7]\n"
     ]
    }
   ],
   "source": [
    "# user input n\n",
    "size = input(\"Enter n: \")\n",
    "sizeInt = int(size)\n",
    "#creates list of ints of size n\n",
    "listOfInts = [i for i in range(2,sizeInt+1)]\n",
    "\n",
    "#print(listOfInts)\n",
    "\n",
    "for i in listOfInts:\n",
    "    #print(i)\n",
    "    z = sizeInt//i\n",
    "    #print(z)\n",
    "\n",
    "    #print(i, \" has \", z, \" multiples in the list\")\n",
    "    \"\"\"\n",
    "    for j in listOfInts:\n",
    "        for k in range(2,z+1):\n",
    "            listOfInts.remove(k*j)\n",
    "            \"\"\"\n",
    "    if z>1:\n",
    "        for k in range(2,z+1):\n",
    "            #print(\"the \",k, \" time\")\n",
    "            #print(\"removing multiples of \", i)\n",
    "            if k*i in listOfInts:\n",
    "                listOfInts.remove(k*i)     \n",
    "  \n",
    "print(\"New List of primes up to n\")\n",
    "print(listOfInts)\n"
   ]
  },
  {
   "cell_type": "markdown",
   "metadata": {},
   "source": [
    "Producing primes with timing"
   ]
  },
  {
   "cell_type": "code",
   "execution_count": 68,
   "metadata": {},
   "outputs": [
    {
     "name": "stdout",
     "output_type": "stream",
     "text": [
      "0.00013709068298339844\n",
      "0.00016808509826660156\n",
      "0.00816798210144043\n",
      "0.8131940364837646\n",
      "2.827098846435547\n",
      "18.707977771759033\n"
     ]
    },
    {
     "data": {
      "image/png": "[encoded data removed]",
      "text/plain": [
       "<matplotlib.figure.Figure at 0x118901278>"
      ]
     },
     "metadata": {},
     "output_type": "display_data"
    }
   ],
   "source": [
    "import time\n",
    "import matplotlib.pyplot as plt\n",
    "import math\n",
    "import numpy as np\n",
    "\n",
    "# user input n\n",
    "#size = input(\"Enter n \")\n",
    "nList = [100,1000,10000,100000,1000000,10000000]\n",
    "nListnp = np.array(nList)\n",
    "timeList = []\n",
    "#normalizedTimeList = []\n",
    "#list = [10,100,1000,10000,100000,1000000]\n",
    "\n",
    "for i in list:\n",
    "    sizeInt = i\n",
    "    #creates list of ints of size n\n",
    "    start = time.time()\n",
    "    listOfInts = [i for i in range(2,sizeInt+1)]\n",
    "    #print(listOfInts)\n",
    "    for i in listOfInts:\n",
    "        #print(i)\n",
    "        z = sizeInt//i\n",
    "       # print(z)\n",
    "\n",
    "        #print(i, \" has \", z, \" multiples in the list\")\n",
    "        #print()\n",
    "        \"\"\"\n",
    "        for j in listOfInts:\n",
    "            for k in range(2,z+1):\n",
    "                listOfInts.remove(k*j)\n",
    "                \"\"\"\n",
    "        if z>1:\n",
    "            for k in range(2,z+1):\n",
    "             #   print(\"the \",k, \" time\")\n",
    "             #   print(\"removing multiples of \", i)\n",
    "                if k*i in listOfInts:\n",
    "                    listOfInts.remove(k*i)     \n",
    "\n",
    "    #print(\"New List of primes up to n\")\n",
    "    #print(listOfInts)\n",
    "    end = time.time()\n",
    "    #x = math.log(end-start)\n",
    "    timeList.append(end-start)\n",
    "    \n",
    "    #timeList.append(x)\n",
    "    print(end-start)\n",
    "\n",
    "#maxVal = max(timeList)\n",
    "#for i in timeList:\n",
    "#    normalizedTimeList.append(i/maxVal)\n",
    "#plt.plot(nList,normalizedTimeList)\n",
    "x = np.array(timeList)\n",
    "plt.plot(nListnp, x)\n",
    "plt.xlabel('N')\n",
    "plt.ylabel('Time')\n",
    "plt.show()"
   ]
  },
  {
   "cell_type": "code",
   "execution_count": null,
   "metadata": {
    "collapsed": true
   },
   "outputs": [],
   "source": []
  }
 ],
 "metadata": {
  "kernelspec": {
   "display_name": "Python 3",
   "language": "python",
   "name": "python3"
  },
  "language_info": {
   "codemirror_mode": {
    "name": "ipython",
    "version": 3
   },
   "file_extension": ".py",
   "mimetype": "text/x-python",
   "name": "python",
   "nbconvert_exporter": "python",
   "pygments_lexer": "ipython3",
   "version": "3.6.7"
  }
 },
 "nbformat": 4,
 "nbformat_minor": 2
}
